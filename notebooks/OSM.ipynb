{
 "cells": [
  {
   "cell_type": "code",
   "execution_count": 1,
   "metadata": {},
   "outputs": [],
   "source": [
    "import pandas as pd\n",
    "import numpy as np"
   ]
  },
  {
   "cell_type": "code",
   "execution_count": 3,
   "metadata": {},
   "outputs": [],
   "source": [
    "from os.path import join"
   ]
  },
  {
   "cell_type": "markdown",
   "metadata": {},
   "source": [
    "# Load DataFrames"
   ]
  },
  {
   "cell_type": "code",
   "execution_count": 2,
   "metadata": {},
   "outputs": [],
   "source": [
    "PATH = \"/Users/rdora/Downloads/\""
   ]
  },
  {
   "cell_type": "code",
   "execution_count": 4,
   "metadata": {},
   "outputs": [
    {
     "name": "stderr",
     "output_type": "stream",
     "text": [
      "/usr/local/lib/python3.7/site-packages/IPython/core/interactiveshell.py:3049: DtypeWarning: Columns (3) have mixed types. Specify dtype option on import or set low_memory=False.\n",
      "  interactivity=interactivity, compiler=compiler, result=result)\n"
     ]
    }
   ],
   "source": [
    "nodes = pd.read_csv(join(PATH, \"osm_nodes.csv\"))\n",
    "ways = pd.read_csv(join(PATH, \"osm_ways.csv\"))"
   ]
  },
  {
   "cell_type": "code",
   "execution_count": 8,
   "metadata": {},
   "outputs": [],
   "source": [
    "# remove NA values in refs\n",
    "ways = ways[~ways.ref.isna()]\n",
    "ways['ref'] = ways.ref.astype('int')"
   ]
  },
  {
   "cell_type": "code",
   "execution_count": null,
   "metadata": {},
   "outputs": [],
   "source": [
    "nodes = pd.merge(nodes, ways, how=\"left\",\n",
    "                right_on=\"id\")"
   ]
  },
  {
   "cell_type": "code",
   "execution_count": 10,
   "metadata": {},
   "outputs": [
    {
     "data": {
      "text/html": [
       "<div>\n",
       "<style scoped>\n",
       "    .dataframe tbody tr th:only-of-type {\n",
       "        vertical-align: middle;\n",
       "    }\n",
       "\n",
       "    .dataframe tbody tr th {\n",
       "        vertical-align: top;\n",
       "    }\n",
       "\n",
       "    .dataframe thead th {\n",
       "        text-align: right;\n",
       "    }\n",
       "</style>\n",
       "<table border=\"1\" class=\"dataframe\">\n",
       "  <thead>\n",
       "    <tr style=\"text-align: right;\">\n",
       "      <th></th>\n",
       "      <th>type</th>\n",
       "      <th>id</th>\n",
       "      <th>lon</th>\n",
       "      <th>lat</th>\n",
       "      <th>version</th>\n",
       "      <th>visible</th>\n",
       "      <th>tag_key</th>\n",
       "      <th>tag_value</th>\n",
       "    </tr>\n",
       "  </thead>\n",
       "  <tbody>\n",
       "    <tr>\n",
       "      <th>0</th>\n",
       "      <td>node</td>\n",
       "      <td>269701904</td>\n",
       "      <td>-100.251138</td>\n",
       "      <td>25.731145</td>\n",
       "      <td>4</td>\n",
       "      <td>True</td>\n",
       "      <td>NaN</td>\n",
       "      <td>NaN</td>\n",
       "    </tr>\n",
       "    <tr>\n",
       "      <th>1</th>\n",
       "      <td>node</td>\n",
       "      <td>269701905</td>\n",
       "      <td>-100.254961</td>\n",
       "      <td>25.728632</td>\n",
       "      <td>3</td>\n",
       "      <td>True</td>\n",
       "      <td>NaN</td>\n",
       "      <td>NaN</td>\n",
       "    </tr>\n",
       "    <tr>\n",
       "      <th>2</th>\n",
       "      <td>node</td>\n",
       "      <td>269701906</td>\n",
       "      <td>-100.259171</td>\n",
       "      <td>25.725525</td>\n",
       "      <td>3</td>\n",
       "      <td>True</td>\n",
       "      <td>NaN</td>\n",
       "      <td>NaN</td>\n",
       "    </tr>\n",
       "    <tr>\n",
       "      <th>3</th>\n",
       "      <td>node</td>\n",
       "      <td>286524810</td>\n",
       "      <td>-100.306874</td>\n",
       "      <td>25.671168</td>\n",
       "      <td>2</td>\n",
       "      <td>True</td>\n",
       "      <td>NaN</td>\n",
       "      <td>NaN</td>\n",
       "    </tr>\n",
       "    <tr>\n",
       "      <th>4</th>\n",
       "      <td>node</td>\n",
       "      <td>286524814</td>\n",
       "      <td>-100.306482</td>\n",
       "      <td>25.671143</td>\n",
       "      <td>2</td>\n",
       "      <td>True</td>\n",
       "      <td>NaN</td>\n",
       "      <td>NaN</td>\n",
       "    </tr>\n",
       "  </tbody>\n",
       "</table>\n",
       "</div>"
      ],
      "text/plain": [
       "   type         id         lon        lat  version  visible tag_key tag_value\n",
       "0  node  269701904 -100.251138  25.731145        4     True     NaN       NaN\n",
       "1  node  269701905 -100.254961  25.728632        3     True     NaN       NaN\n",
       "2  node  269701906 -100.259171  25.725525        3     True     NaN       NaN\n",
       "3  node  286524810 -100.306874  25.671168        2     True     NaN       NaN\n",
       "4  node  286524814 -100.306482  25.671143        2     True     NaN       NaN"
      ]
     },
     "execution_count": 10,
     "metadata": {},
     "output_type": "execute_result"
    }
   ],
   "source": [
    "nodes.head()"
   ]
  },
  {
   "cell_type": "code",
   "execution_count": 11,
   "metadata": {},
   "outputs": [
    {
     "data": {
      "text/html": [
       "<div>\n",
       "<style scoped>\n",
       "    .dataframe tbody tr th:only-of-type {\n",
       "        vertical-align: middle;\n",
       "    }\n",
       "\n",
       "    .dataframe tbody tr th {\n",
       "        vertical-align: top;\n",
       "    }\n",
       "\n",
       "    .dataframe thead th {\n",
       "        text-align: right;\n",
       "    }\n",
       "</style>\n",
       "<table border=\"1\" class=\"dataframe\">\n",
       "  <thead>\n",
       "    <tr style=\"text-align: right;\">\n",
       "      <th></th>\n",
       "      <th>type</th>\n",
       "      <th>id</th>\n",
       "      <th>version</th>\n",
       "      <th>visible</th>\n",
       "      <th>tag_key</th>\n",
       "      <th>tag_value</th>\n",
       "      <th>ref</th>\n",
       "    </tr>\n",
       "  </thead>\n",
       "  <tbody>\n",
       "    <tr>\n",
       "      <th>0</th>\n",
       "      <td>way</td>\n",
       "      <td>26440964</td>\n",
       "      <td>18.0</td>\n",
       "      <td>True</td>\n",
       "      <td>highway</td>\n",
       "      <td>tertiary</td>\n",
       "      <td>1678707721</td>\n",
       "    </tr>\n",
       "    <tr>\n",
       "      <th>1</th>\n",
       "      <td>way</td>\n",
       "      <td>26440964</td>\n",
       "      <td>18.0</td>\n",
       "      <td>True</td>\n",
       "      <td>highway</td>\n",
       "      <td>tertiary</td>\n",
       "      <td>1283533743</td>\n",
       "    </tr>\n",
       "    <tr>\n",
       "      <th>2</th>\n",
       "      <td>way</td>\n",
       "      <td>26440964</td>\n",
       "      <td>18.0</td>\n",
       "      <td>True</td>\n",
       "      <td>highway</td>\n",
       "      <td>tertiary</td>\n",
       "      <td>289739483</td>\n",
       "    </tr>\n",
       "    <tr>\n",
       "      <th>3</th>\n",
       "      <td>way</td>\n",
       "      <td>26440964</td>\n",
       "      <td>18.0</td>\n",
       "      <td>True</td>\n",
       "      <td>highway</td>\n",
       "      <td>tertiary</td>\n",
       "      <td>289994641</td>\n",
       "    </tr>\n",
       "    <tr>\n",
       "      <th>4</th>\n",
       "      <td>way</td>\n",
       "      <td>26440964</td>\n",
       "      <td>18.0</td>\n",
       "      <td>True</td>\n",
       "      <td>highway</td>\n",
       "      <td>tertiary</td>\n",
       "      <td>290248436</td>\n",
       "    </tr>\n",
       "  </tbody>\n",
       "</table>\n",
       "</div>"
      ],
      "text/plain": [
       "  type        id  version visible  tag_key tag_value         ref\n",
       "0  way  26440964     18.0    True  highway  tertiary  1678707721\n",
       "1  way  26440964     18.0    True  highway  tertiary  1283533743\n",
       "2  way  26440964     18.0    True  highway  tertiary   289739483\n",
       "3  way  26440964     18.0    True  highway  tertiary   289994641\n",
       "4  way  26440964     18.0    True  highway  tertiary   290248436"
      ]
     },
     "execution_count": 11,
     "metadata": {},
     "output_type": "execute_result"
    }
   ],
   "source": [
    "ways.head()"
   ]
  }
 ],
 "metadata": {
  "kernelspec": {
   "display_name": "Python 3",
   "language": "python",
   "name": "python3"
  },
  "language_info": {
   "codemirror_mode": {
    "name": "ipython",
    "version": 3
   },
   "file_extension": ".py",
   "mimetype": "text/x-python",
   "name": "python",
   "nbconvert_exporter": "python",
   "pygments_lexer": "ipython3",
   "version": "3.7.3"
  }
 },
 "nbformat": 4,
 "nbformat_minor": 2
}
