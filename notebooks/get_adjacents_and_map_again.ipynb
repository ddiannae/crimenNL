{
 "cells": [
  {
   "cell_type": "code",
   "execution_count": 2,
   "metadata": {},
   "outputs": [],
   "source": [
    "import pandas as pd\n",
    "import numpy as np\n",
    "import matplotlib.pyplot as plt\n",
    "import geopandas as gpd\n",
    "\n",
    "%matplotlib inline"
   ]
  },
  {
   "cell_type": "code",
   "execution_count": 2,
   "metadata": {},
   "outputs": [],
   "source": [
    "import networkx as nx"
   ]
  },
  {
   "cell_type": "code",
   "execution_count": 3,
   "metadata": {},
   "outputs": [],
   "source": [
    "from os.path import join"
   ]
  },
  {
   "cell_type": "code",
   "execution_count": 3,
   "metadata": {},
   "outputs": [],
   "source": [
    "df = pd.read_csv(\"../data/crime.csv\", parse_dates=[\"date\"], encoding=\"latin\")"
   ]
  },
  {
   "cell_type": "code",
   "execution_count": 6,
   "metadata": {},
   "outputs": [
    {
     "data": {
      "text/html": [
       "<div>\n",
       "<style scoped>\n",
       "    .dataframe tbody tr th:only-of-type {\n",
       "        vertical-align: middle;\n",
       "    }\n",
       "\n",
       "    .dataframe tbody tr th {\n",
       "        vertical-align: top;\n",
       "    }\n",
       "\n",
       "    .dataframe thead th {\n",
       "        text-align: right;\n",
       "    }\n",
       "</style>\n",
       "<table border=\"1\" class=\"dataframe\">\n",
       "  <thead>\n",
       "    <tr style=\"text-align: right;\">\n",
       "      <th></th>\n",
       "      <th>year</th>\n",
       "      <th>date</th>\n",
       "      <th>lat</th>\n",
       "      <th>lon</th>\n",
       "      <th>news</th>\n",
       "      <th>cassualties</th>\n",
       "      <th>url</th>\n",
       "      <th>area</th>\n",
       "      <th>OBJECTID</th>\n",
       "      <th>POSTALCODE</th>\n",
       "      <th>MUN_NAME</th>\n",
       "      <th>SETT_NAME</th>\n",
       "      <th>SETT_TYPE</th>\n",
       "    </tr>\n",
       "  </thead>\n",
       "  <tbody>\n",
       "    <tr>\n",
       "      <td>0</td>\n",
       "      <td>2015</td>\n",
       "      <td>2015-10-12</td>\n",
       "      <td>25.617672</td>\n",
       "      <td>-100.259318</td>\n",
       "      <td>Persiguen y ejecutan a hombre</td>\n",
       "      <td>1.0</td>\n",
       "      <td>http://www.elnorte.com/aplicaciones/articulo/d...</td>\n",
       "      <td>0.000042</td>\n",
       "      <td>35483</td>\n",
       "      <td>64878.0</td>\n",
       "      <td>MONTERREY</td>\n",
       "      <td>EJIDAL LOS REMATES</td>\n",
       "      <td>COLONIA</td>\n",
       "    </tr>\n",
       "    <tr>\n",
       "      <td>1</td>\n",
       "      <td>2015</td>\n",
       "      <td>2015-10-02</td>\n",
       "      <td>25.632075</td>\n",
       "      <td>-100.286088</td>\n",
       "      <td>Ejecutan a uno en plaza en Garza Sada</td>\n",
       "      <td>1.0</td>\n",
       "      <td>http://www.elnorte.com/aplicaciones/articulo/d...</td>\n",
       "      <td>0.000009</td>\n",
       "      <td>35424</td>\n",
       "      <td>64788.0</td>\n",
       "      <td>MONTERREY</td>\n",
       "      <td>REVOLUCION PROLETARIA</td>\n",
       "      <td>COLONIA</td>\n",
       "    </tr>\n",
       "    <tr>\n",
       "      <td>2</td>\n",
       "      <td>2015</td>\n",
       "      <td>2015-10-01</td>\n",
       "      <td>25.675784</td>\n",
       "      <td>-100.475788</td>\n",
       "      <td>Lo ejecutan frente a su casa</td>\n",
       "      <td>1.0</td>\n",
       "      <td>http://www.elnorte.com/aplicaciones/articulo/d...</td>\n",
       "      <td>0.000023</td>\n",
       "      <td>36310</td>\n",
       "      <td>66257.0</td>\n",
       "      <td>SANTA CATARINA</td>\n",
       "      <td>HDA SANTA CATARINA (FOMERREY 29)</td>\n",
       "      <td>COLONIA</td>\n",
       "    </tr>\n",
       "    <tr>\n",
       "      <td>3</td>\n",
       "      <td>2015</td>\n",
       "      <td>2015-09-24</td>\n",
       "      <td>25.657586</td>\n",
       "      <td>-100.322029</td>\n",
       "      <td>Lo esperan para ejecutarlo</td>\n",
       "      <td>1.0</td>\n",
       "      <td>http://www.elnorte.com/aplicaciones/articulo/d...</td>\n",
       "      <td>0.000222</td>\n",
       "      <td>35376</td>\n",
       "      <td>64720.0</td>\n",
       "      <td>MONTERREY</td>\n",
       "      <td>INDEPENDENCIA</td>\n",
       "      <td>FRACCIONAMIENTO</td>\n",
       "    </tr>\n",
       "    <tr>\n",
       "      <td>4</td>\n",
       "      <td>2015</td>\n",
       "      <td>2015-09-24</td>\n",
       "      <td>25.683207</td>\n",
       "      <td>-100.305650</td>\n",
       "      <td>Matan a 2 clientes en ataque 13 a bar</td>\n",
       "      <td>2.0</td>\n",
       "      <td>http://www.elnorte.com/aplicaciones/articulo/d...</td>\n",
       "      <td>0.000717</td>\n",
       "      <td>34955</td>\n",
       "      <td>64000.0</td>\n",
       "      <td>MONTERREY</td>\n",
       "      <td>CENTRO DE MONTERREY</td>\n",
       "      <td>COLONIA</td>\n",
       "    </tr>\n",
       "  </tbody>\n",
       "</table>\n",
       "</div>"
      ],
      "text/plain": [
       "   year       date        lat         lon  \\\n",
       "0  2015 2015-10-12  25.617672 -100.259318   \n",
       "1  2015 2015-10-02  25.632075 -100.286088   \n",
       "2  2015 2015-10-01  25.675784 -100.475788   \n",
       "3  2015 2015-09-24  25.657586 -100.322029   \n",
       "4  2015 2015-09-24  25.683207 -100.305650   \n",
       "\n",
       "                                    news  cassualties  \\\n",
       "0          Persiguen y ejecutan a hombre          1.0   \n",
       "1  Ejecutan a uno en plaza en Garza Sada          1.0   \n",
       "2           Lo ejecutan frente a su casa          1.0   \n",
       "3             Lo esperan para ejecutarlo          1.0   \n",
       "4  Matan a 2 clientes en ataque 13 a bar          2.0   \n",
       "\n",
       "                                                 url      area  OBJECTID  \\\n",
       "0  http://www.elnorte.com/aplicaciones/articulo/d...  0.000042     35483   \n",
       "1  http://www.elnorte.com/aplicaciones/articulo/d...  0.000009     35424   \n",
       "2  http://www.elnorte.com/aplicaciones/articulo/d...  0.000023     36310   \n",
       "3  http://www.elnorte.com/aplicaciones/articulo/d...  0.000222     35376   \n",
       "4  http://www.elnorte.com/aplicaciones/articulo/d...  0.000717     34955   \n",
       "\n",
       "   POSTALCODE        MUN_NAME                         SETT_NAME  \\\n",
       "0     64878.0       MONTERREY                EJIDAL LOS REMATES   \n",
       "1     64788.0       MONTERREY             REVOLUCION PROLETARIA   \n",
       "2     66257.0  SANTA CATARINA  HDA SANTA CATARINA (FOMERREY 29)   \n",
       "3     64720.0       MONTERREY                     INDEPENDENCIA   \n",
       "4     64000.0       MONTERREY               CENTRO DE MONTERREY   \n",
       "\n",
       "         SETT_TYPE  \n",
       "0          COLONIA  \n",
       "1          COLONIA  \n",
       "2          COLONIA  \n",
       "3  FRACCIONAMIENTO  \n",
       "4          COLONIA  "
      ]
     },
     "execution_count": 6,
     "metadata": {},
     "output_type": "execute_result"
    }
   ],
   "source": [
    "df.head()"
   ]
  },
  {
   "cell_type": "code",
   "execution_count": 8,
   "metadata": {},
   "outputs": [
    {
     "data": {
      "text/plain": [
       "<matplotlib.axes._subplots.AxesSubplot at 0x7f83e7603320>"
      ]
     },
     "execution_count": 8,
     "metadata": {},
     "output_type": "execute_result"
    },
    {
     "data": {
      "image/png": "[encoded data removed]",
      "text/plain": [
       "<Figure size 1440x1440 with 1 Axes>"
      ]
     },
     "metadata": {
      "needs_background": "light"
     },
     "output_type": "display_data"
    }
   ],
   "source": [
    "PATH = \"/home/dianae/Workspace/crimenNL/shape\"\n",
    "\n",
    "fp = join(PATH, 'nuevo_leon.shp')\n",
    "\n",
    "map_df = gpd.read_file(fp, encoding='latin')\n",
    "fig, ax = plt.subplots(figsize=(20, 20))\n",
    "scatter = df.plot.scatter(x='lon', y='lat', ax=ax, alpha=0.4, c='Red', s = 2)\n",
    "\n",
    "map_df.plot(ax=ax, alpha=0.5)"
   ]
  },
  {
   "cell_type": "code",
   "execution_count": 9,
   "metadata": {},
   "outputs": [],
   "source": [
    "vecinos = []\n",
    "for index, colonia in map_df.iterrows():   \n",
    "    # get 'not disjoint' countries\n",
    "    neighbors = map_df[~map_df.geometry.disjoint(colonia.geometry)].OBJECTID.tolist()\n",
    "    # remove own name from the list\n",
    "    vecinos = vecinos + [(colonia.OBJECTID, name) \n",
    "                 for name in neighbors if colonia.OBJECTID != name ]"
   ]
  },
  {
   "cell_type": "code",
   "execution_count": 10,
   "metadata": {},
   "outputs": [],
   "source": [
    "vecinos =  pd.DataFrame(vecinos, columns = [\"source\", \"target\"])\n",
    "vecinos.to_csv(\"../data/adjacent_neighborhoods.csv\", index = False)"
   ]
  },
  {
   "cell_type": "code",
   "execution_count": 11,
   "metadata": {},
   "outputs": [],
   "source": [
    "map_df[\"x_center\"] = map_df['geometry'].centroid.x\n",
    "map_df[\"y_center\"] = map_df['geometry'].centroid.y\n",
    "map_df[\"centroid\"] = map_df['geometry'].centroid.apply(lambda p: (p.x, p.y))"
   ]
  },
  {
   "cell_type": "code",
   "execution_count": 12,
   "metadata": {},
   "outputs": [],
   "source": [
    "nodeData = map_df[[\"OBJECTID\", \"SETT_NAME\", \"POSTALCODE\", \"MUN_NAME\", \n",
    "                   \"SETT_TYPE\", \"x_center\", \"y_center\",\n",
    "                   \"centroid\"]].set_index(\"OBJECTID\").to_dict('index')"
   ]
  },
  {
   "cell_type": "code",
   "execution_count": 13,
   "metadata": {},
   "outputs": [],
   "source": [
    "G = nx.from_pandas_edgelist(vecinos)\n",
    "G.add_nodes_from(map_df.OBJECTID)\n",
    "nx.set_node_attributes(G, nodeData)"
   ]
  },
  {
   "cell_type": "code",
   "execution_count": null,
   "metadata": {},
   "outputs": [],
   "source": [
    "plt.figure(figsize=(20, 60))\n",
    "pos = nx.get_node_attributes(G, \"centroid\")\n",
    "nx.draw_networkx(G, pos = pos, with_labels = False, node_size = 20)"
   ]
  },
  {
   "cell_type": "markdown",
   "metadata": {},
   "source": [
    "### We need to map again because there are duplicate neighborhoods "
   ]
  },
  {
   "cell_type": "code",
   "execution_count": 25,
   "metadata": {},
   "outputs": [],
   "source": [
    "df = df[['year', 'date', 'lat', 'lon', 'news', 'cassualties', 'url']]"
   ]
  },
  {
   "cell_type": "code",
   "execution_count": 16,
   "metadata": {},
   "outputs": [],
   "source": [
    "from shapely.geometry import Point, Polygon"
   ]
  },
  {
   "cell_type": "code",
   "execution_count": 17,
   "metadata": {},
   "outputs": [],
   "source": [
    "neighborhoods = []\n",
    "for i, row in df.iterrows():\n",
    "    p = Point(row['lon'], row['lat'])\n",
    "    for j, row_j in map_df.iterrows():\n",
    "        polygon = row_j['geometry']\n",
    "        if p.within(polygon):\n",
    "            neighborhoods.append(row_j['OBJECTID'])\n",
    "            break\n",
    "    else:\n",
    "        neighborhoods.append(np.nan)"
   ]
  },
  {
   "cell_type": "code",
   "execution_count": 18,
   "metadata": {},
   "outputs": [],
   "source": [
    "neighborhoods = pd.Series(neighborhoods).fillna(0).astype(int).tolist()"
   ]
  },
  {
   "cell_type": "code",
   "execution_count": 26,
   "metadata": {},
   "outputs": [],
   "source": [
    "df[\"OBJECTID\"] = neighborhoods"
   ]
  },
  {
   "cell_type": "code",
   "execution_count": 27,
   "metadata": {},
   "outputs": [],
   "source": [
    "df = df.merge(map_df, on = \"OBJECTID\", how = \"left\")  "
   ]
  },
  {
   "cell_type": "code",
   "execution_count": 28,
   "metadata": {},
   "outputs": [],
   "source": [
    "df = df[['year', 'date', 'lat', 'lon', 'news', 'cassualties', 'url',\n",
    "       'OBJECTID', 'POSTALCODE','MUN_NAME', 'SETT_NAME', 'SETT_TYPE', 'Shape_Area']]"
   ]
  },
  {
   "cell_type": "code",
   "execution_count": 29,
   "metadata": {},
   "outputs": [],
   "source": [
    "df.columns = ['year', 'date', 'lat', 'lon', 'news', 'cassualties', 'url',\n",
    "       'object_id', 'postal_code','mun_name', 'neighborhood_name', 'neighborhood_type', 'area']"
   ]
  },
  {
   "cell_type": "code",
   "execution_count": 30,
   "metadata": {},
   "outputs": [
    {
     "data": {
      "text/html": [
       "<div>\n",
       "<style scoped>\n",
       "    .dataframe tbody tr th:only-of-type {\n",
       "        vertical-align: middle;\n",
       "    }\n",
       "\n",
       "    .dataframe tbody tr th {\n",
       "        vertical-align: top;\n",
       "    }\n",
       "\n",
       "    .dataframe thead th {\n",
       "        text-align: right;\n",
       "    }\n",
       "</style>\n",
       "<table border=\"1\" class=\"dataframe\">\n",
       "  <thead>\n",
       "    <tr style=\"text-align: right;\">\n",
       "      <th></th>\n",
       "      <th>year</th>\n",
       "      <th>date</th>\n",
       "      <th>lat</th>\n",
       "      <th>lon</th>\n",
       "      <th>news</th>\n",
       "      <th>cassualties</th>\n",
       "      <th>url</th>\n",
       "      <th>object_id</th>\n",
       "      <th>postal_code</th>\n",
       "      <th>mun_name</th>\n",
       "      <th>neighborhood_name</th>\n",
       "      <th>neighborhood_type</th>\n",
       "      <th>area</th>\n",
       "    </tr>\n",
       "  </thead>\n",
       "  <tbody>\n",
       "    <tr>\n",
       "      <td>0</td>\n",
       "      <td>2015</td>\n",
       "      <td>2015-10-12</td>\n",
       "      <td>25.617672</td>\n",
       "      <td>-100.259318</td>\n",
       "      <td>Persiguen y ejecutan a hombre</td>\n",
       "      <td>1.0</td>\n",
       "      <td>http://www.elnorte.com/aplicaciones/articulo/d...</td>\n",
       "      <td>35483</td>\n",
       "      <td>64878</td>\n",
       "      <td>MONTERREY</td>\n",
       "      <td>EJIDAL LOS REMATES</td>\n",
       "      <td>COLONIA</td>\n",
       "      <td>0.000042</td>\n",
       "    </tr>\n",
       "    <tr>\n",
       "      <td>1</td>\n",
       "      <td>2015</td>\n",
       "      <td>2015-10-02</td>\n",
       "      <td>25.632075</td>\n",
       "      <td>-100.286088</td>\n",
       "      <td>Ejecutan a uno en plaza en Garza Sada</td>\n",
       "      <td>1.0</td>\n",
       "      <td>http://www.elnorte.com/aplicaciones/articulo/d...</td>\n",
       "      <td>35424</td>\n",
       "      <td>64788</td>\n",
       "      <td>MONTERREY</td>\n",
       "      <td>REVOLUCION PROLETARIA</td>\n",
       "      <td>COLONIA</td>\n",
       "      <td>0.000009</td>\n",
       "    </tr>\n",
       "    <tr>\n",
       "      <td>2</td>\n",
       "      <td>2015</td>\n",
       "      <td>2015-10-01</td>\n",
       "      <td>25.675784</td>\n",
       "      <td>-100.475788</td>\n",
       "      <td>Lo ejecutan frente a su casa</td>\n",
       "      <td>1.0</td>\n",
       "      <td>http://www.elnorte.com/aplicaciones/articulo/d...</td>\n",
       "      <td>36310</td>\n",
       "      <td>66257</td>\n",
       "      <td>SANTA CATARINA</td>\n",
       "      <td>HDA SANTA CATARINA (FOMERREY 29)</td>\n",
       "      <td>COLONIA</td>\n",
       "      <td>0.000023</td>\n",
       "    </tr>\n",
       "    <tr>\n",
       "      <td>3</td>\n",
       "      <td>2015</td>\n",
       "      <td>2015-09-24</td>\n",
       "      <td>25.657586</td>\n",
       "      <td>-100.322029</td>\n",
       "      <td>Lo esperan para ejecutarlo</td>\n",
       "      <td>1.0</td>\n",
       "      <td>http://www.elnorte.com/aplicaciones/articulo/d...</td>\n",
       "      <td>35376</td>\n",
       "      <td>64720</td>\n",
       "      <td>MONTERREY</td>\n",
       "      <td>INDEPENDENCIA</td>\n",
       "      <td>FRACCIONAMIENTO</td>\n",
       "      <td>0.000222</td>\n",
       "    </tr>\n",
       "    <tr>\n",
       "      <td>4</td>\n",
       "      <td>2015</td>\n",
       "      <td>2015-09-24</td>\n",
       "      <td>25.683207</td>\n",
       "      <td>-100.305650</td>\n",
       "      <td>Matan a 2 clientes en ataque 13 a bar</td>\n",
       "      <td>2.0</td>\n",
       "      <td>http://www.elnorte.com/aplicaciones/articulo/d...</td>\n",
       "      <td>34955</td>\n",
       "      <td>64000</td>\n",
       "      <td>MONTERREY</td>\n",
       "      <td>CENTRO DE MONTERREY</td>\n",
       "      <td>COLONIA</td>\n",
       "      <td>0.000717</td>\n",
       "    </tr>\n",
       "  </tbody>\n",
       "</table>\n",
       "</div>"
      ],
      "text/plain": [
       "   year       date        lat         lon  \\\n",
       "0  2015 2015-10-12  25.617672 -100.259318   \n",
       "1  2015 2015-10-02  25.632075 -100.286088   \n",
       "2  2015 2015-10-01  25.675784 -100.475788   \n",
       "3  2015 2015-09-24  25.657586 -100.322029   \n",
       "4  2015 2015-09-24  25.683207 -100.305650   \n",
       "\n",
       "                                    news  cassualties  \\\n",
       "0          Persiguen y ejecutan a hombre          1.0   \n",
       "1  Ejecutan a uno en plaza en Garza Sada          1.0   \n",
       "2           Lo ejecutan frente a su casa          1.0   \n",
       "3             Lo esperan para ejecutarlo          1.0   \n",
       "4  Matan a 2 clientes en ataque 13 a bar          2.0   \n",
       "\n",
       "                                                 url  object_id postal_code  \\\n",
       "0  http://www.elnorte.com/aplicaciones/articulo/d...      35483       64878   \n",
       "1  http://www.elnorte.com/aplicaciones/articulo/d...      35424       64788   \n",
       "2  http://www.elnorte.com/aplicaciones/articulo/d...      36310       66257   \n",
       "3  http://www.elnorte.com/aplicaciones/articulo/d...      35376       64720   \n",
       "4  http://www.elnorte.com/aplicaciones/articulo/d...      34955       64000   \n",
       "\n",
       "         mun_name                 neighborhood_name neighborhood_type  \\\n",
       "0       MONTERREY                EJIDAL LOS REMATES           COLONIA   \n",
       "1       MONTERREY             REVOLUCION PROLETARIA           COLONIA   \n",
       "2  SANTA CATARINA  HDA SANTA CATARINA (FOMERREY 29)           COLONIA   \n",
       "3       MONTERREY                     INDEPENDENCIA   FRACCIONAMIENTO   \n",
       "4       MONTERREY               CENTRO DE MONTERREY           COLONIA   \n",
       "\n",
       "       area  \n",
       "0  0.000042  \n",
       "1  0.000009  \n",
       "2  0.000023  \n",
       "3  0.000222  \n",
       "4  0.000717  "
      ]
     },
     "execution_count": 30,
     "metadata": {},
     "output_type": "execute_result"
    }
   ],
   "source": [
    "df.head()"
   ]
  },
  {
   "cell_type": "code",
   "execution_count": 4,
   "metadata": {},
   "outputs": [],
   "source": [
    "df.to_csv(\"../data/crime.csv\", index = False,  encoding='utf-8')"
   ]
  }
 ],
 "metadata": {
  "kernelspec": {
   "display_name": "Python 3",
   "language": "python",
   "name": "python3"
  },
  "language_info": {
   "codemirror_mode": {
    "name": "ipython",
    "version": 3
   },
   "file_extension": ".py",
   "mimetype": "text/x-python",
   "name": "python",
   "nbconvert_exporter": "python",
   "pygments_lexer": "ipython3",
   "version": "3.6.8"
  }
 },
 "nbformat": 4,
 "nbformat_minor": 2
}
