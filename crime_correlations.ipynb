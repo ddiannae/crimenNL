{
 "cells": [
  {
   "cell_type": "code",
   "execution_count": 1,
   "metadata": {},
   "outputs": [],
   "source": [
    "import pandas as pd"
   ]
  },
  {
   "cell_type": "code",
   "execution_count": 2,
   "metadata": {},
   "outputs": [],
   "source": [
    "df = pd.read_csv(\"data/crime_inegi.csv\", index_col = [\"nom_mun\", \"date\"], parse_dates = True)"
   ]
  },
  {
   "cell_type": "code",
   "execution_count": 3,
   "metadata": {},
   "outputs": [
    {
     "name": "stdout",
     "output_type": "stream",
     "text": [
      "<class 'pandas.core.frame.DataFrame'>\n",
      "MultiIndex: 2114 entries, (Monterrey, 2015-10-12 00:00:00) to (nan, 2015-01-27 00:00:00)\n",
      "Data columns (total 12 columns):\n",
      "year            2114 non-null int64\n",
      "lat             2114 non-null float64\n",
      "lon             2114 non-null float64\n",
      "news            2114 non-null object\n",
      "cassualties     2114 non-null float64\n",
      "url             2114 non-null object\n",
      "neighborhood    1860 non-null object\n",
      "point           2114 non-null object\n",
      "clave_mun       1917 non-null float64\n",
      "clave_loc       1917 non-null float64\n",
      "nom_loc         1917 non-null object\n",
      "ageb            1917 non-null object\n",
      "dtypes: float64(5), int64(1), object(6)\n",
      "memory usage: 213.8+ KB\n"
     ]
    }
   ],
   "source": [
    "df.info()"
   ]
  },
  {
   "cell_type": "code",
   "execution_count": 4,
   "metadata": {},
   "outputs": [],
   "source": [
    "df = df[[\"cassualties\"]]"
   ]
  },
  {
   "cell_type": "code",
   "execution_count": 5,
   "metadata": {},
   "outputs": [
    {
     "name": "stdout",
     "output_type": "stream",
     "text": [
      "<class 'pandas.core.frame.DataFrame'>\n",
      "MultiIndex: 2114 entries, (Monterrey, 2015-10-12 00:00:00) to (nan, 2015-01-27 00:00:00)\n",
      "Data columns (total 1 columns):\n",
      "cassualties    2114 non-null float64\n",
      "dtypes: float64(1)\n",
      "memory usage: 32.1+ KB\n"
     ]
    }
   ],
   "source": [
    "df.info()"
   ]
  },
  {
   "cell_type": "code",
   "execution_count": 6,
   "metadata": {},
   "outputs": [
    {
     "data": {
      "text/html": [
       "<div>\n",
       "<style scoped>\n",
       "    .dataframe tbody tr th:only-of-type {\n",
       "        vertical-align: middle;\n",
       "    }\n",
       "\n",
       "    .dataframe tbody tr th {\n",
       "        vertical-align: top;\n",
       "    }\n",
       "\n",
       "    .dataframe thead th {\n",
       "        text-align: right;\n",
       "    }\n",
       "</style>\n",
       "<table border=\"1\" class=\"dataframe\">\n",
       "  <thead>\n",
       "    <tr style=\"text-align: right;\">\n",
       "      <th></th>\n",
       "      <th></th>\n",
       "      <th>cassualties</th>\n",
       "    </tr>\n",
       "    <tr>\n",
       "      <th>nom_mun</th>\n",
       "      <th>date</th>\n",
       "      <th></th>\n",
       "    </tr>\n",
       "  </thead>\n",
       "  <tbody>\n",
       "    <tr>\n",
       "      <th rowspan=\"2\" valign=\"top\">Monterrey</th>\n",
       "      <th>2015-10-12</th>\n",
       "      <td>1.0</td>\n",
       "    </tr>\n",
       "    <tr>\n",
       "      <th>2015-10-02</th>\n",
       "      <td>1.0</td>\n",
       "    </tr>\n",
       "    <tr>\n",
       "      <th>Santa Catarina</th>\n",
       "      <th>2015-10-01</th>\n",
       "      <td>1.0</td>\n",
       "    </tr>\n",
       "    <tr>\n",
       "      <th rowspan=\"2\" valign=\"top\">Monterrey</th>\n",
       "      <th>2015-09-24</th>\n",
       "      <td>1.0</td>\n",
       "    </tr>\n",
       "    <tr>\n",
       "      <th>2015-09-24</th>\n",
       "      <td>2.0</td>\n",
       "    </tr>\n",
       "  </tbody>\n",
       "</table>\n",
       "</div>"
      ],
      "text/plain": [
       "                           cassualties\n",
       "nom_mun        date                   \n",
       "Monterrey      2015-10-12          1.0\n",
       "               2015-10-02          1.0\n",
       "Santa Catarina 2015-10-01          1.0\n",
       "Monterrey      2015-09-24          1.0\n",
       "               2015-09-24          2.0"
      ]
     },
     "execution_count": 6,
     "metadata": {},
     "output_type": "execute_result"
    }
   ],
   "source": [
    "df.head()"
   ]
  },
  {
   "cell_type": "markdown",
   "metadata": {},
   "source": [
    "#### Primero por semestre"
   ]
  },
  {
   "cell_type": "code",
   "execution_count": 7,
   "metadata": {},
   "outputs": [],
   "source": [
    "level_values = df.index.get_level_values\n",
    "df_agg = df.groupby([level_values(0)] + [pd.Grouper(freq='2Q', closed='left', level=-1)]).sum()"
   ]
  },
  {
   "cell_type": "code",
   "execution_count": 8,
   "metadata": {},
   "outputs": [
    {
     "name": "stdout",
     "output_type": "stream",
     "text": [
      "<class 'pandas.core.frame.DataFrame'>\n",
      "MultiIndex: 193 entries, (Apodaca, 2011-06-30 00:00:00) to (Santiago, 2017-12-31 00:00:00)\n",
      "Data columns (total 1 columns):\n",
      "cassualties    193 non-null float64\n",
      "dtypes: float64(1)\n",
      "memory usage: 2.3+ KB\n"
     ]
    }
   ],
   "source": [
    "df_agg.info()"
   ]
  },
  {
   "cell_type": "code",
   "execution_count": 10,
   "metadata": {},
   "outputs": [],
   "source": [
    "df_mun = df_agg.unstack(level = 1)"
   ]
  },
  {
   "cell_type": "code",
   "execution_count": 11,
   "metadata": {},
   "outputs": [
    {
     "data": {
      "text/html": [
       "<div>\n",
       "<style scoped>\n",
       "    .dataframe tbody tr th:only-of-type {\n",
       "        vertical-align: middle;\n",
       "    }\n",
       "\n",
       "    .dataframe tbody tr th {\n",
       "        vertical-align: top;\n",
       "    }\n",
       "\n",
       "    .dataframe thead tr th {\n",
       "        text-align: left;\n",
       "    }\n",
       "\n",
       "    .dataframe thead tr:last-of-type th {\n",
       "        text-align: right;\n",
       "    }\n",
       "</style>\n",
       "<table border=\"1\" class=\"dataframe\">\n",
       "  <thead>\n",
       "    <tr>\n",
       "      <th></th>\n",
       "      <th colspan=\"15\" halign=\"left\">cassualties</th>\n",
       "    </tr>\n",
       "    <tr>\n",
       "      <th>date</th>\n",
       "      <th>2011-06-30</th>\n",
       "      <th>2011-12-31</th>\n",
       "      <th>2012-06-30</th>\n",
       "      <th>2012-12-31</th>\n",
       "      <th>2013-06-30</th>\n",
       "      <th>2013-12-31</th>\n",
       "      <th>2014-06-30</th>\n",
       "      <th>2014-12-31</th>\n",
       "      <th>2015-06-30</th>\n",
       "      <th>2015-12-31</th>\n",
       "      <th>2016-06-30</th>\n",
       "      <th>2016-12-31</th>\n",
       "      <th>2017-06-30</th>\n",
       "      <th>2017-12-31</th>\n",
       "      <th>2018-06-30</th>\n",
       "    </tr>\n",
       "    <tr>\n",
       "      <th>nom_mun</th>\n",
       "      <th></th>\n",
       "      <th></th>\n",
       "      <th></th>\n",
       "      <th></th>\n",
       "      <th></th>\n",
       "      <th></th>\n",
       "      <th></th>\n",
       "      <th></th>\n",
       "      <th></th>\n",
       "      <th></th>\n",
       "      <th></th>\n",
       "      <th></th>\n",
       "      <th></th>\n",
       "      <th></th>\n",
       "      <th></th>\n",
       "    </tr>\n",
       "  </thead>\n",
       "  <tbody>\n",
       "    <tr>\n",
       "      <th>Apodaca</th>\n",
       "      <td>39.0</td>\n",
       "      <td>33.0</td>\n",
       "      <td>46.0</td>\n",
       "      <td>29.0</td>\n",
       "      <td>25.0</td>\n",
       "      <td>22.0</td>\n",
       "      <td>10.0</td>\n",
       "      <td>4.0</td>\n",
       "      <td>6.0</td>\n",
       "      <td>3.0</td>\n",
       "      <td>12.0</td>\n",
       "      <td>NaN</td>\n",
       "      <td>6.0</td>\n",
       "      <td>7.0</td>\n",
       "      <td>3.0</td>\n",
       "    </tr>\n",
       "    <tr>\n",
       "      <th>Cadereyta Jiménez</th>\n",
       "      <td>37.0</td>\n",
       "      <td>21.0</td>\n",
       "      <td>48.0</td>\n",
       "      <td>7.0</td>\n",
       "      <td>4.0</td>\n",
       "      <td>9.0</td>\n",
       "      <td>6.0</td>\n",
       "      <td>3.0</td>\n",
       "      <td>11.0</td>\n",
       "      <td>3.0</td>\n",
       "      <td>NaN</td>\n",
       "      <td>NaN</td>\n",
       "      <td>6.0</td>\n",
       "      <td>4.0</td>\n",
       "      <td>1.0</td>\n",
       "    </tr>\n",
       "    <tr>\n",
       "      <th>Ciénega de Flores</th>\n",
       "      <td>2.0</td>\n",
       "      <td>6.0</td>\n",
       "      <td>NaN</td>\n",
       "      <td>1.0</td>\n",
       "      <td>NaN</td>\n",
       "      <td>NaN</td>\n",
       "      <td>2.0</td>\n",
       "      <td>NaN</td>\n",
       "      <td>NaN</td>\n",
       "      <td>NaN</td>\n",
       "      <td>2.0</td>\n",
       "      <td>NaN</td>\n",
       "      <td>1.0</td>\n",
       "      <td>NaN</td>\n",
       "      <td>NaN</td>\n",
       "    </tr>\n",
       "    <tr>\n",
       "      <th>Doctor González</th>\n",
       "      <td>NaN</td>\n",
       "      <td>NaN</td>\n",
       "      <td>NaN</td>\n",
       "      <td>NaN</td>\n",
       "      <td>NaN</td>\n",
       "      <td>1.0</td>\n",
       "      <td>NaN</td>\n",
       "      <td>2.0</td>\n",
       "      <td>NaN</td>\n",
       "      <td>NaN</td>\n",
       "      <td>NaN</td>\n",
       "      <td>NaN</td>\n",
       "      <td>NaN</td>\n",
       "      <td>NaN</td>\n",
       "      <td>NaN</td>\n",
       "    </tr>\n",
       "    <tr>\n",
       "      <th>El Carmen</th>\n",
       "      <td>1.0</td>\n",
       "      <td>4.0</td>\n",
       "      <td>1.0</td>\n",
       "      <td>3.0</td>\n",
       "      <td>1.0</td>\n",
       "      <td>NaN</td>\n",
       "      <td>1.0</td>\n",
       "      <td>NaN</td>\n",
       "      <td>NaN</td>\n",
       "      <td>NaN</td>\n",
       "      <td>NaN</td>\n",
       "      <td>NaN</td>\n",
       "      <td>NaN</td>\n",
       "      <td>NaN</td>\n",
       "      <td>NaN</td>\n",
       "    </tr>\n",
       "  </tbody>\n",
       "</table>\n",
       "</div>"
      ],
      "text/plain": [
       "                  cassualties                                              \\\n",
       "date               2011-06-30 2011-12-31 2012-06-30 2012-12-31 2013-06-30   \n",
       "nom_mun                                                                     \n",
       "Apodaca                  39.0       33.0       46.0       29.0       25.0   \n",
       "Cadereyta Jiménez        37.0       21.0       48.0        7.0        4.0   \n",
       "Ciénega de Flores         2.0        6.0        NaN        1.0        NaN   \n",
       "Doctor González           NaN        NaN        NaN        NaN        NaN   \n",
       "El Carmen                 1.0        4.0        1.0        3.0        1.0   \n",
       "\n",
       "                                                                          \\\n",
       "date              2013-12-31 2014-06-30 2014-12-31 2015-06-30 2015-12-31   \n",
       "nom_mun                                                                    \n",
       "Apodaca                 22.0       10.0        4.0        6.0        3.0   \n",
       "Cadereyta Jiménez        9.0        6.0        3.0       11.0        3.0   \n",
       "Ciénega de Flores        NaN        2.0        NaN        NaN        NaN   \n",
       "Doctor González          1.0        NaN        2.0        NaN        NaN   \n",
       "El Carmen                NaN        1.0        NaN        NaN        NaN   \n",
       "\n",
       "                                                                          \n",
       "date              2016-06-30 2016-12-31 2017-06-30 2017-12-31 2018-06-30  \n",
       "nom_mun                                                                   \n",
       "Apodaca                 12.0        NaN        6.0        7.0        3.0  \n",
       "Cadereyta Jiménez        NaN        NaN        6.0        4.0        1.0  \n",
       "Ciénega de Flores        2.0        NaN        1.0        NaN        NaN  \n",
       "Doctor González          NaN        NaN        NaN        NaN        NaN  \n",
       "El Carmen                NaN        NaN        NaN        NaN        NaN  "
      ]
     },
     "execution_count": 11,
     "metadata": {},
     "output_type": "execute_result"
    }
   ],
   "source": [
    "df_mun.head()"
   ]
  },
  {
   "cell_type": "code",
   "execution_count": 12,
   "metadata": {},
   "outputs": [],
   "source": [
    "df_mun = df_mun.fillna(0)"
   ]
  },
  {
   "cell_type": "code",
   "execution_count": 25,
   "metadata": {},
   "outputs": [],
   "source": [
    "corr_mun = df_mun.T.corr(method=\"pearson\")"
   ]
  },
  {
   "cell_type": "code",
   "execution_count": 28,
   "metadata": {},
   "outputs": [],
   "source": [
    "import seaborn as sns\n",
    "import matplotlib.pyplot as plt\n",
    "%matplotlib inline"
   ]
  },
  {
   "cell_type": "code",
   "execution_count": 29,
   "metadata": {},
   "outputs": [
    {
     "data": {
      "image/png": "[encoded data removed]",
      "text/plain": [
       "<Figure size 432x288 with 2 Axes>"
      ]
     },
     "metadata": {
      "needs_background": "light"
     },
     "output_type": "display_data"
    }
   ],
   "source": [
    "heat_map = sns.heatmap(corr_mun)\n",
    "plt.show()"
   ]
  },
  {
   "cell_type": "markdown",
   "metadata": {},
   "source": [
    "### Pero eso no era lo que queríamos ja"
   ]
  }
 ],
 "metadata": {
  "kernelspec": {
   "display_name": "Python 3",
   "language": "python",
   "name": "python3"
  },
  "language_info": {
   "codemirror_mode": {
    "name": "ipython",
    "version": 3
   },
   "file_extension": ".py",
   "mimetype": "text/x-python",
   "name": "python",
   "nbconvert_exporter": "python",
   "pygments_lexer": "ipython3",
   "version": "3.5.2"
  }
 },
 "nbformat": 4,
 "nbformat_minor": 2
}
